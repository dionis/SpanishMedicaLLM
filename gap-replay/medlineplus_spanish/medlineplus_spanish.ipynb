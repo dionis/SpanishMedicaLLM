{
  "nbformat": 4,
  "nbformat_minor": 0,
  "metadata": {
    "colab": {
      "provenance": []
    },
    "kernelspec": {
      "name": "python3",
      "display_name": "Python 3"
    },
    "language_info": {
      "name": "python"
    }
  },
  "cells": [
    {
      "cell_type": "code",
      "execution_count": 8,
      "metadata": {
        "id": "8FKPCpLZuCQs",
        "colab": {
          "base_uri": "https://localhost:8080/"
        },
        "outputId": "805633ba-64b5-44e8-c8f5-9b15f1ba81e8"
      },
      "outputs": [
        {
          "output_type": "stream",
          "name": "stdout",
          "text": [
            "remote: Enumerating objects: 1, done.\u001b[K\n",
            "remote: Counting objects: 100% (1/1)\u001b[K\rremote: Counting objects: 100% (1/1), done.\u001b[K\n",
            "remote: Total 1 (delta 0), reused 0 (delta 0), pack-reused 0\u001b[K\n",
            "Unpacking objects: 100% (1/1)\rUnpacking objects: 100% (1/1), 183 bytes | 183.00 KiB/s, done.\n",
            "From https://github.com/dionis/SpanishMedicaLLM\n",
            "   42b9077..6fc2971  3-develop_a_finetunning_test_on_training_process_with_QLora-Epfl -> origin/3-develop_a_finetunning_test_on_training_process_with_QLora-Epfl\n",
            "Already up to date.\n"
          ]
        }
      ],
      "source": [
        "!git pull"
      ]
    },
    {
      "cell_type": "code",
      "source": [
        "!pip install -r frequirements.txt"
      ],
      "metadata": {
        "id": "1LGWmnXC2W9c",
        "outputId": "efaa42e5-5f6d-4cbe-af1f-2d6073a41724",
        "colab": {
          "base_uri": "https://localhost:8080/"
        }
      },
      "execution_count": 11,
      "outputs": [
        {
          "output_type": "stream",
          "name": "stdout",
          "text": [
            "Requirement already satisfied: aiodns==2.0.0 in /usr/local/lib/python3.10/dist-packages (from -r frequirements.txt (line 1)) (2.0.0)\n",
            "Requirement already satisfied: aiohttp==3.6.2 in /usr/local/lib/python3.10/dist-packages (from -r frequirements.txt (line 2)) (3.6.2)\n",
            "Requirement already satisfied: aiohttp-socks==0.5.5 in /usr/local/lib/python3.10/dist-packages (from -r frequirements.txt (line 3)) (0.5.5)\n",
            "Requirement already satisfied: astroid==2.4.2 in /usr/local/lib/python3.10/dist-packages (from -r frequirements.txt (line 4)) (2.4.2)\n",
            "Requirement already satisfied: async-timeout==3.0.1 in /usr/local/lib/python3.10/dist-packages (from -r frequirements.txt (line 5)) (3.0.1)\n",
            "Requirement already satisfied: atomicwrites==1.4.0 in /usr/local/lib/python3.10/dist-packages (from -r frequirements.txt (line 6)) (1.4.0)\n",
            "Requirement already satisfied: attrs in /usr/local/lib/python3.10/dist-packages (from -r frequirements.txt (line 7)) (23.2.0)\n",
            "Requirement already satisfied: Automat in /usr/local/lib/python3.10/dist-packages (from -r frequirements.txt (line 8)) (22.10.0)\n",
            "Requirement already satisfied: autopep8==1.5.4 in /usr/local/lib/python3.10/dist-packages (from -r frequirements.txt (line 9)) (1.5.4)\n",
            "Requirement already satisfied: bcrypt in /usr/local/lib/python3.10/dist-packages (from -r frequirements.txt (line 10)) (4.1.2)\n",
            "Requirement already satisfied: bs4==0.0.1 in /usr/local/lib/python3.10/dist-packages (from -r frequirements.txt (line 11)) (0.0.1)\n",
            "Requirement already satisfied: cchardet==2.1.6 in /usr/local/lib/python3.10/dist-packages (from -r frequirements.txt (line 12)) (2.1.6)\n",
            "Requirement already satisfied: cffi in /usr/local/lib/python3.10/dist-packages (from -r frequirements.txt (line 14)) (1.16.0)\n",
            "Requirement already satisfied: chardet==3.0.4 in /usr/local/lib/python3.10/dist-packages (from -r frequirements.txt (line 15)) (3.0.4)\n",
            "Requirement already satisfied: colorama==0.4.3 in /usr/local/lib/python3.10/dist-packages (from -r frequirements.txt (line 16)) (0.4.3)\n",
            "Requirement already satisfied: constantly==15.1.0 in /usr/local/lib/python3.10/dist-packages (from -r frequirements.txt (line 17)) (15.1.0)\n",
            "Requirement already satisfied: cryptography in /usr/local/lib/python3.10/dist-packages (from -r frequirements.txt (line 18)) (42.0.5)\n",
            "Requirement already satisfied: cssselect==1.1.0 in /usr/local/lib/python3.10/dist-packages (from -r frequirements.txt (line 19)) (1.1.0)\n",
            "Requirement already satisfied: elasticsearch==7.9.1 in /usr/local/lib/python3.10/dist-packages (from -r frequirements.txt (line 20)) (7.9.1)\n",
            "Requirement already satisfied: fake-useragent==0.1.11 in /usr/local/lib/python3.10/dist-packages (from -r frequirements.txt (line 21)) (0.1.11)\n",
            "Requirement already satisfied: geographiclib==1.50 in /usr/local/lib/python3.10/dist-packages (from -r frequirements.txt (line 22)) (1.50)\n",
            "Requirement already satisfied: geopy==2.0.0 in /usr/local/lib/python3.10/dist-packages (from -r frequirements.txt (line 23)) (2.0.0)\n",
            "Requirement already satisfied: googletransx==2.4.2 in /usr/local/lib/python3.10/dist-packages (from -r frequirements.txt (line 24)) (2.4.2)\n",
            "Requirement already satisfied: hyperlink in /usr/local/lib/python3.10/dist-packages (from -r frequirements.txt (line 25)) (21.0.0)\n",
            "Requirement already satisfied: idna in /usr/local/lib/python3.10/dist-packages (from -r frequirements.txt (line 26)) (3.6)\n",
            "Requirement already satisfied: incremental==17.5.0 in /usr/local/lib/python3.10/dist-packages (from -r frequirements.txt (line 27)) (17.5.0)\n",
            "Requirement already satisfied: iniconfig in /usr/local/lib/python3.10/dist-packages (from -r frequirements.txt (line 28)) (2.0.0)\n",
            "Requirement already satisfied: isort==5.5.4 in /usr/local/lib/python3.10/dist-packages (from -r frequirements.txt (line 29)) (5.5.4)\n",
            "Requirement already satisfied: itemadapter in /usr/local/lib/python3.10/dist-packages (from -r frequirements.txt (line 30)) (0.8.0)\n",
            "Requirement already satisfied: itemloaders in /usr/local/lib/python3.10/dist-packages (from -r frequirements.txt (line 31)) (1.1.0)\n",
            "Requirement already satisfied: jmespath in /usr/local/lib/python3.10/dist-packages (from -r frequirements.txt (line 32)) (1.0.1)\n",
            "Requirement already satisfied: lazy-object-proxy==1.4.3 in /usr/local/lib/python3.10/dist-packages (from -r frequirements.txt (line 33)) (1.4.3)\n",
            "Requirement already satisfied: lxml in /usr/local/lib/python3.10/dist-packages (from -r frequirements.txt (line 34)) (4.9.4)\n",
            "Requirement already satisfied: mccabe==0.6.1 in /usr/local/lib/python3.10/dist-packages (from -r frequirements.txt (line 35)) (0.6.1)\n",
            "Requirement already satisfied: more-itertools in /usr/local/lib/python3.10/dist-packages (from -r frequirements.txt (line 36)) (10.1.0)\n",
            "Requirement already satisfied: multidict==4.7.6 in /usr/local/lib/python3.10/dist-packages (from -r frequirements.txt (line 37)) (4.7.6)\n",
            "Requirement already satisfied: numpy in /usr/local/lib/python3.10/dist-packages (from -r frequirements.txt (line 38)) (1.25.2)\n",
            "Requirement already satisfied: parsel==1.5.2 in /usr/local/lib/python3.10/dist-packages (from -r frequirements.txt (line 41)) (1.5.2)\n",
            "Requirement already satisfied: pluggy==0.13.1 in /usr/local/lib/python3.10/dist-packages (from -r frequirements.txt (line 42)) (0.13.1)\n",
            "Requirement already satisfied: Protego in /usr/local/lib/python3.10/dist-packages (from -r frequirements.txt (line 43)) (0.3.0)\n",
            "Requirement already satisfied: py in /usr/local/lib/python3.10/dist-packages (from -r frequirements.txt (line 44)) (1.11.0)\n",
            "Requirement already satisfied: pyasn1==0.4.8 in /usr/local/lib/python3.10/dist-packages (from -r frequirements.txt (line 45)) (0.4.8)\n",
            "Requirement already satisfied: pyasn1-modules==0.2.8 in /usr/local/lib/python3.10/dist-packages (from -r frequirements.txt (line 46)) (0.2.8)\n",
            "Requirement already satisfied: pycares==3.1.1 in /usr/local/lib/python3.10/dist-packages (from -r frequirements.txt (line 47)) (3.1.1)\n",
            "Requirement already satisfied: pycodestyle==2.6.0 in /usr/local/lib/python3.10/dist-packages (from -r frequirements.txt (line 48)) (2.6.0)\n",
            "Requirement already satisfied: pycparser in /usr/local/lib/python3.10/dist-packages (from -r frequirements.txt (line 49)) (2.21)\n",
            "Requirement already satisfied: PyDispatcher==2.0.5 in /usr/local/lib/python3.10/dist-packages (from -r frequirements.txt (line 50)) (2.0.5)\n",
            "Requirement already satisfied: pydocstyle==5.0.2 in /usr/local/lib/python3.10/dist-packages (from -r frequirements.txt (line 51)) (5.0.2)\n",
            "Requirement already satisfied: PyHamcrest in /usr/local/lib/python3.10/dist-packages (from -r frequirements.txt (line 52)) (2.1.0)\n",
            "Requirement already satisfied: pylint==2.6.0 in /usr/local/lib/python3.10/dist-packages (from -r frequirements.txt (line 53)) (2.6.0)\n",
            "Requirement already satisfied: pyOpenSSL in /usr/local/lib/python3.10/dist-packages (from -r frequirements.txt (line 54)) (24.1.0)\n",
            "Requirement already satisfied: PySocks==1.7.1 in /usr/local/lib/python3.10/dist-packages (from -r frequirements.txt (line 56)) (1.7.1)\n",
            "Requirement already satisfied: pytest==6.0.2 in /usr/local/lib/python3.10/dist-packages (from -r frequirements.txt (line 57)) (6.0.2)\n",
            "Requirement already satisfied: pytest-runner==5.2 in /usr/local/lib/python3.10/dist-packages (from -r frequirements.txt (line 58)) (5.2)\n",
            "Requirement already satisfied: python-socks==1.1.0 in /usr/local/lib/python3.10/dist-packages (from -r frequirements.txt (line 60)) (1.1.0)\n",
            "Requirement already satisfied: queuelib==1.5.0 in /usr/local/lib/python3.10/dist-packages (from -r frequirements.txt (line 64)) (1.5.0)\n",
            "Requirement already satisfied: requests==2.31.0 in /usr/local/lib/python3.10/dist-packages (from -r frequirements.txt (line 65)) (2.31.0)\n",
            "Requirement already satisfied: schedule==0.6.0 in /usr/local/lib/python3.10/dist-packages (from -r frequirements.txt (line 66)) (0.6.0)\n",
            "Requirement already satisfied: Scrapy in /usr/local/lib/python3.10/dist-packages (from -r frequirements.txt (line 67)) (2.11.1)\n",
            "Requirement already satisfied: service-identity in /usr/local/lib/python3.10/dist-packages (from -r frequirements.txt (line 68)) (24.1.0)\n",
            "Requirement already satisfied: snowballstemmer==2.0.0 in /usr/local/lib/python3.10/dist-packages (from -r frequirements.txt (line 70)) (2.0.0)\n",
            "Requirement already satisfied: soupsieve==2.0.1 in /usr/local/lib/python3.10/dist-packages (from -r frequirements.txt (line 71)) (2.0.1)\n",
            "Requirement already satisfied: toml in /usr/local/lib/python3.10/dist-packages (from -r frequirements.txt (line 72)) (0.10.2)\n",
            "Requirement already satisfied: twint==2.1.20 in /usr/local/lib/python3.10/dist-packages (from -r frequirements.txt (line 73)) (2.1.20)\n",
            "Requirement already satisfied: Twisted==20.3.0 in /usr/local/lib/python3.10/dist-packages (from -r frequirements.txt (line 74)) (20.3.0)\n",
            "Requirement already satisfied: urllib3==1.25.10 in /usr/local/lib/python3.10/dist-packages (from -r frequirements.txt (line 75)) (1.25.10)\n",
            "Requirement already satisfied: w3lib==1.21.0 in /usr/local/lib/python3.10/dist-packages (from -r frequirements.txt (line 76)) (1.21.0)\n",
            "Requirement already satisfied: wincertstore==0.2 in /usr/local/lib/python3.10/dist-packages (from -r frequirements.txt (line 77)) (0.2)\n",
            "Requirement already satisfied: wrapt==1.12.1 in /usr/local/lib/python3.10/dist-packages (from -r frequirements.txt (line 78)) (1.12.1)\n",
            "Requirement already satisfied: yarl==1.6.0 in /usr/local/lib/python3.10/dist-packages (from -r frequirements.txt (line 79)) (1.6.0)\n",
            "Requirement already satisfied: zope.interface in /usr/local/lib/python3.10/dist-packages (from -r frequirements.txt (line 80)) (6.2)\n",
            "Requirement already satisfied: six~=1.12 in /usr/local/lib/python3.10/dist-packages (from astroid==2.4.2->-r frequirements.txt (line 4)) (1.16.0)\n",
            "Requirement already satisfied: beautifulsoup4 in /usr/local/lib/python3.10/dist-packages (from bs4==0.0.1->-r frequirements.txt (line 11)) (4.12.3)\n",
            "Requirement already satisfied: certifi in /usr/local/lib/python3.10/dist-packages (from elasticsearch==7.9.1->-r frequirements.txt (line 20)) (2024.2.2)\n",
            "Requirement already satisfied: packaging in /usr/local/lib/python3.10/dist-packages (from pytest==6.0.2->-r frequirements.txt (line 57)) (24.0)\n",
            "Requirement already satisfied: charset-normalizer<4,>=2 in /usr/local/lib/python3.10/dist-packages (from requests==2.31.0->-r frequirements.txt (line 65)) (3.3.2)\n",
            "Requirement already satisfied: pandas in /usr/local/lib/python3.10/dist-packages (from twint==2.1.20->-r frequirements.txt (line 73)) (1.5.3)\n",
            "Requirement already satisfied: setuptools in /usr/local/lib/python3.10/dist-packages (from Scrapy->-r frequirements.txt (line 67)) (67.7.2)\n",
            "Requirement already satisfied: tldextract in /usr/local/lib/python3.10/dist-packages (from Scrapy->-r frequirements.txt (line 67)) (5.1.2)\n",
            "Requirement already satisfied: python-dateutil>=2.8.1 in /usr/local/lib/python3.10/dist-packages (from pandas->twint==2.1.20->-r frequirements.txt (line 73)) (2.8.2)\n",
            "Requirement already satisfied: pytz>=2020.1 in /usr/local/lib/python3.10/dist-packages (from pandas->twint==2.1.20->-r frequirements.txt (line 73)) (2023.4)\n",
            "Requirement already satisfied: requests-file>=1.4 in /usr/local/lib/python3.10/dist-packages (from tldextract->Scrapy->-r frequirements.txt (line 67)) (2.0.0)\n",
            "Requirement already satisfied: filelock>=3.0.8 in /usr/local/lib/python3.10/dist-packages (from tldextract->Scrapy->-r frequirements.txt (line 67)) (3.13.1)\n"
          ]
        }
      ]
    }
  ]
}