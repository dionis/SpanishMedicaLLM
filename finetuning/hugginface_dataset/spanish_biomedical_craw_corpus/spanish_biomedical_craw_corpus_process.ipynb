{
  "nbformat": 4,
  "nbformat_minor": 0,
  "metadata": {
    "colab": {
      "provenance": []
    },
    "kernelspec": {
      "name": "python3",
      "display_name": "Python 3"
    },
    "language_info": {
      "name": "python"
    }
  },
  "cells": [
    {
      "cell_type": "code",
      "source": [
        "from urllib import request\n",
        "URL = 'https://zenodo.org/records/5513237/files/CoWeSe.txt?download=1'\n",
        "response = request.urlretrieve(URL, \"CoWeSe.txt\")"
      ],
      "metadata": {
        "id": "XRsE_iw1JUQX"
      },
      "execution_count": 2,
      "outputs": []
    },
    {
      "cell_type": "code",
      "execution_count": null,
      "metadata": {
        "id": "yH5nDblMIjoS"
      },
      "outputs": [],
      "source": [
        "!python -f using_dataset_hugginface.py"
      ]
    }
  ]
}