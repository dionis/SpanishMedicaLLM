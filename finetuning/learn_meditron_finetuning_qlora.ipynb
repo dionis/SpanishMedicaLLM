{
  "nbformat": 4,
  "nbformat_minor": 0,
  "metadata": {
    "colab": {
      "provenance": [],
      "toc_visible": true
    },
    "kernelspec": {
      "name": "python3",
      "display_name": "Python 3"
    },
    "language_info": {
      "name": "python"
    }
  },
  "cells": [
    {
      "cell_type": "markdown",
      "source": [
        "**This jupyther notebook desing and implement** a **meditron finetuning** inspered on project source code from [Meditron in github repository](https://github.com/epfLLM/meditron) and some other resouces as [\n",
        "    Finetune LLMs on your own consumer hardware using tools from PyTorch and Hugging Face ecosystem](https://pytorch.org/blog/finetune-llms/)"
      ],
      "metadata": {
        "id": "PwRU8u7UQZv1"
      }
    },
    {
      "cell_type": "code",
      "source": [],
      "metadata": {
        "id": "z6sMNNpcQdCg"
      },
      "execution_count": null,
      "outputs": []
    }
  ]
}