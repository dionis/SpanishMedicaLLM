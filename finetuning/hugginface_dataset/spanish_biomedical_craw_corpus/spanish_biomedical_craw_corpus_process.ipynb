{
  "cells": [
    {
      "cell_type": "code",
      "execution_count": 2,
      "metadata": {
        "id": "XRsE_iw1JUQX"
      },
      "outputs": [],
      "source": [
        "from urllib import request\n",
        "URL = 'https://zenodo.org/records/5513237/files/CoWeSe.txt?download=1'\n",
        "response = request.urlretrieve(URL, \"CoWeSe.txt\")"
      ]
    },
    {
      "cell_type": "code",
      "execution_count": null,
      "metadata": {
        "id": "yH5nDblMIjoS"
      },
      "outputs": [],
      "source": [
        "#!python -f using_dataset_hugginface.py"
      ]
    }
  ],
  "metadata": {
    "colab": {
      "provenance": []
    },
    "kernelspec": {
      "display_name": "Python 3",
      "name": "python3"
    },
    "language_info": {
      "name": "python"
    }
  },
  "nbformat": 4,
  "nbformat_minor": 0
}
